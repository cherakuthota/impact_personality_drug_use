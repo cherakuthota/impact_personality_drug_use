{
 "metadata": {
  "language_info": {
   "codemirror_mode": {
    "name": "ipython",
    "version": 3
   },
   "file_extension": ".py",
   "mimetype": "text/x-python",
   "name": "python",
   "nbconvert_exporter": "python",
   "pygments_lexer": "ipython3",
   "version": "3.8.5"
  },
  "orig_nbformat": 4,
  "kernelspec": {
   "name": "python3",
   "display_name": "Python 3.8.5 64-bit ('.venv': venv)"
  },
  "interpreter": {
   "hash": "38ab92e1f49d10cad6ce4bfaa9925dd6a8fce9fccb05baf85b2d1219379af7bc"
  }
 },
 "nbformat": 4,
 "nbformat_minor": 2,
 "cells": [
  {
   "source": [
    "# Hear begins our exploration of the data!!!"
   ],
   "cell_type": "markdown",
   "metadata": {}
  },
  {
   "cell_type": "code",
   "execution_count": 1,
   "metadata": {},
   "outputs": [],
   "source": [
    "# Import libraries necessary for this project\n",
    "import numpy as np\n",
    "import pandas as pd\n",
    "# Import visualisation libraries\n",
    "import seaborn as sns\n",
    "import matplotlib.pyplot as plt\n",
    "sns.set(style=\"whitegrid\", color_codes=True)"
   ]
  },
  {
   "cell_type": "code",
   "execution_count": 2,
   "metadata": {},
   "outputs": [],
   "source": [
    "# Load the Census dataset\n",
    "drug_consumption_data = pd.read_csv(\"data/drug_consumption_project2.csv\")\n"
   ]
  },
  {
   "cell_type": "code",
   "execution_count": 3,
   "metadata": {},
   "outputs": [
    {
     "output_type": "execute_result",
     "data": {
      "text/plain": [
       "   ID      Age   Gender  Education  Country  Ethnicity   Nscore   Escore  \\\n",
       "0   1  0.49788  0.48246   -0.05921  0.96082    0.12600  0.31287 -0.57545   \n",
       "1   2 -0.07854 -0.48246    1.98437  0.96082   -0.31685 -0.67825  1.93886   \n",
       "2   3  0.49788 -0.48246   -0.05921  0.96082   -0.31685 -0.46725  0.80523   \n",
       "3   4 -0.95197  0.48246    1.16365  0.96082   -0.31685 -0.14882 -0.80615   \n",
       "4   5  0.49788  0.48246    1.98437  0.96082   -0.31685  0.73545 -1.63340   \n",
       "\n",
       "    Oscore   Ascore  ...  Ecstasy  Heroin  Ketamine Legalh  LSD Meth Shrooms  \\\n",
       "0 -0.58331 -0.91699  ...      CL0     CL0       CL0    CL0  CL0  CL0     CL0   \n",
       "1  1.43533  0.76096  ...      CL4     CL0       CL2    CL0  CL2  CL3     CL0   \n",
       "2 -0.84732 -1.62090  ...      CL0     CL0       CL0    CL0  CL0  CL0     CL1   \n",
       "3 -0.01928  0.59042  ...      CL0     CL0       CL2    CL0  CL0  CL0     CL0   \n",
       "4 -0.45174 -0.30172  ...      CL1     CL0       CL0    CL1  CL0  CL0     CL2   \n",
       "\n",
       "  Nicotine Semer  VSA  \n",
       "0      CL2   CL0  CL0  \n",
       "1      CL4   CL0  CL0  \n",
       "2      CL0   CL0  CL0  \n",
       "3      CL2   CL0  CL0  \n",
       "4      CL2   CL0  CL0  \n",
       "\n",
       "[5 rows x 32 columns]"
      ],
      "text/html": "<div>\n<style scoped>\n    .dataframe tbody tr th:only-of-type {\n        vertical-align: middle;\n    }\n\n    .dataframe tbody tr th {\n        vertical-align: top;\n    }\n\n    .dataframe thead th {\n        text-align: right;\n    }\n</style>\n<table border=\"1\" class=\"dataframe\">\n  <thead>\n    <tr style=\"text-align: right;\">\n      <th></th>\n      <th>ID</th>\n      <th>Age</th>\n      <th>Gender</th>\n      <th>Education</th>\n      <th>Country</th>\n      <th>Ethnicity</th>\n      <th>Nscore</th>\n      <th>Escore</th>\n      <th>Oscore</th>\n      <th>Ascore</th>\n      <th>...</th>\n      <th>Ecstasy</th>\n      <th>Heroin</th>\n      <th>Ketamine</th>\n      <th>Legalh</th>\n      <th>LSD</th>\n      <th>Meth</th>\n      <th>Shrooms</th>\n      <th>Nicotine</th>\n      <th>Semer</th>\n      <th>VSA</th>\n    </tr>\n  </thead>\n  <tbody>\n    <tr>\n      <th>0</th>\n      <td>1</td>\n      <td>0.49788</td>\n      <td>0.48246</td>\n      <td>-0.05921</td>\n      <td>0.96082</td>\n      <td>0.12600</td>\n      <td>0.31287</td>\n      <td>-0.57545</td>\n      <td>-0.58331</td>\n      <td>-0.91699</td>\n      <td>...</td>\n      <td>CL0</td>\n      <td>CL0</td>\n      <td>CL0</td>\n      <td>CL0</td>\n      <td>CL0</td>\n      <td>CL0</td>\n      <td>CL0</td>\n      <td>CL2</td>\n      <td>CL0</td>\n      <td>CL0</td>\n    </tr>\n    <tr>\n      <th>1</th>\n      <td>2</td>\n      <td>-0.07854</td>\n      <td>-0.48246</td>\n      <td>1.98437</td>\n      <td>0.96082</td>\n      <td>-0.31685</td>\n      <td>-0.67825</td>\n      <td>1.93886</td>\n      <td>1.43533</td>\n      <td>0.76096</td>\n      <td>...</td>\n      <td>CL4</td>\n      <td>CL0</td>\n      <td>CL2</td>\n      <td>CL0</td>\n      <td>CL2</td>\n      <td>CL3</td>\n      <td>CL0</td>\n      <td>CL4</td>\n      <td>CL0</td>\n      <td>CL0</td>\n    </tr>\n    <tr>\n      <th>2</th>\n      <td>3</td>\n      <td>0.49788</td>\n      <td>-0.48246</td>\n      <td>-0.05921</td>\n      <td>0.96082</td>\n      <td>-0.31685</td>\n      <td>-0.46725</td>\n      <td>0.80523</td>\n      <td>-0.84732</td>\n      <td>-1.62090</td>\n      <td>...</td>\n      <td>CL0</td>\n      <td>CL0</td>\n      <td>CL0</td>\n      <td>CL0</td>\n      <td>CL0</td>\n      <td>CL0</td>\n      <td>CL1</td>\n      <td>CL0</td>\n      <td>CL0</td>\n      <td>CL0</td>\n    </tr>\n    <tr>\n      <th>3</th>\n      <td>4</td>\n      <td>-0.95197</td>\n      <td>0.48246</td>\n      <td>1.16365</td>\n      <td>0.96082</td>\n      <td>-0.31685</td>\n      <td>-0.14882</td>\n      <td>-0.80615</td>\n      <td>-0.01928</td>\n      <td>0.59042</td>\n      <td>...</td>\n      <td>CL0</td>\n      <td>CL0</td>\n      <td>CL2</td>\n      <td>CL0</td>\n      <td>CL0</td>\n      <td>CL0</td>\n      <td>CL0</td>\n      <td>CL2</td>\n      <td>CL0</td>\n      <td>CL0</td>\n    </tr>\n    <tr>\n      <th>4</th>\n      <td>5</td>\n      <td>0.49788</td>\n      <td>0.48246</td>\n      <td>1.98437</td>\n      <td>0.96082</td>\n      <td>-0.31685</td>\n      <td>0.73545</td>\n      <td>-1.63340</td>\n      <td>-0.45174</td>\n      <td>-0.30172</td>\n      <td>...</td>\n      <td>CL1</td>\n      <td>CL0</td>\n      <td>CL0</td>\n      <td>CL1</td>\n      <td>CL0</td>\n      <td>CL0</td>\n      <td>CL2</td>\n      <td>CL2</td>\n      <td>CL0</td>\n      <td>CL0</td>\n    </tr>\n  </tbody>\n</table>\n<p>5 rows × 32 columns</p>\n</div>"
     },
     "metadata": {},
     "execution_count": 3
    }
   ],
   "source": [
    "drug_consumption_data.head()"
   ]
  },
  {
   "cell_type": "code",
   "execution_count": 6,
   "metadata": {},
   "outputs": [
    {
     "output_type": "execute_result",
     "data": {
      "text/plain": [
       "                ID         Age       Gender    Education      Country  \\\n",
       "count  1885.000000  1885.00000  1885.000000  1885.000000  1885.000000   \n",
       "mean    945.294960     0.03461    -0.000256    -0.003806     0.355542   \n",
       "std     545.167641     0.87836     0.482588     0.950078     0.700335   \n",
       "min       1.000000    -0.95197    -0.482460    -2.435910    -0.570090   \n",
       "25%     474.000000    -0.95197    -0.482460    -0.611130    -0.570090   \n",
       "50%     946.000000    -0.07854    -0.482460    -0.059210     0.960820   \n",
       "75%    1417.000000     0.49788     0.482460     0.454680     0.960820   \n",
       "max    1888.000000     2.59171     0.482460     1.984370     0.960820   \n",
       "\n",
       "         Ethnicity       Nscore       Escore       Oscore       Ascore  \\\n",
       "count  1885.000000  1885.000000  1885.000000  1885.000000  1885.000000   \n",
       "mean     -0.309577     0.000047    -0.000163    -0.000534    -0.000245   \n",
       "std       0.166226     0.998106     0.997448     0.996229     0.997440   \n",
       "min      -1.107020    -3.464360    -3.273930    -3.273930    -3.464360   \n",
       "25%      -0.316850    -0.678250    -0.695090    -0.717270    -0.606330   \n",
       "50%      -0.316850     0.042570     0.003320    -0.019280    -0.017290   \n",
       "75%      -0.316850     0.629670     0.637790     0.723300     0.760960   \n",
       "max       1.907250     3.273930     3.273930     2.901610     3.464360   \n",
       "\n",
       "            Cscore    Impulsive           SS  \n",
       "count  1885.000000  1885.000000  1885.000000  \n",
       "mean     -0.000386     0.007216    -0.003292  \n",
       "std       0.997523     0.954435     0.963701  \n",
       "min      -3.464360    -2.555240    -2.078480  \n",
       "25%      -0.652530    -0.711260    -0.525930  \n",
       "50%      -0.006650    -0.217120     0.079870  \n",
       "75%       0.584890     0.529750     0.765400  \n",
       "max       3.464360     2.901610     1.921730  "
      ],
      "text/html": "<div>\n<style scoped>\n    .dataframe tbody tr th:only-of-type {\n        vertical-align: middle;\n    }\n\n    .dataframe tbody tr th {\n        vertical-align: top;\n    }\n\n    .dataframe thead th {\n        text-align: right;\n    }\n</style>\n<table border=\"1\" class=\"dataframe\">\n  <thead>\n    <tr style=\"text-align: right;\">\n      <th></th>\n      <th>ID</th>\n      <th>Age</th>\n      <th>Gender</th>\n      <th>Education</th>\n      <th>Country</th>\n      <th>Ethnicity</th>\n      <th>Nscore</th>\n      <th>Escore</th>\n      <th>Oscore</th>\n      <th>Ascore</th>\n      <th>Cscore</th>\n      <th>Impulsive</th>\n      <th>SS</th>\n    </tr>\n  </thead>\n  <tbody>\n    <tr>\n      <th>count</th>\n      <td>1885.000000</td>\n      <td>1885.00000</td>\n      <td>1885.000000</td>\n      <td>1885.000000</td>\n      <td>1885.000000</td>\n      <td>1885.000000</td>\n      <td>1885.000000</td>\n      <td>1885.000000</td>\n      <td>1885.000000</td>\n      <td>1885.000000</td>\n      <td>1885.000000</td>\n      <td>1885.000000</td>\n      <td>1885.000000</td>\n    </tr>\n    <tr>\n      <th>mean</th>\n      <td>945.294960</td>\n      <td>0.03461</td>\n      <td>-0.000256</td>\n      <td>-0.003806</td>\n      <td>0.355542</td>\n      <td>-0.309577</td>\n      <td>0.000047</td>\n      <td>-0.000163</td>\n      <td>-0.000534</td>\n      <td>-0.000245</td>\n      <td>-0.000386</td>\n      <td>0.007216</td>\n      <td>-0.003292</td>\n    </tr>\n    <tr>\n      <th>std</th>\n      <td>545.167641</td>\n      <td>0.87836</td>\n      <td>0.482588</td>\n      <td>0.950078</td>\n      <td>0.700335</td>\n      <td>0.166226</td>\n      <td>0.998106</td>\n      <td>0.997448</td>\n      <td>0.996229</td>\n      <td>0.997440</td>\n      <td>0.997523</td>\n      <td>0.954435</td>\n      <td>0.963701</td>\n    </tr>\n    <tr>\n      <th>min</th>\n      <td>1.000000</td>\n      <td>-0.95197</td>\n      <td>-0.482460</td>\n      <td>-2.435910</td>\n      <td>-0.570090</td>\n      <td>-1.107020</td>\n      <td>-3.464360</td>\n      <td>-3.273930</td>\n      <td>-3.273930</td>\n      <td>-3.464360</td>\n      <td>-3.464360</td>\n      <td>-2.555240</td>\n      <td>-2.078480</td>\n    </tr>\n    <tr>\n      <th>25%</th>\n      <td>474.000000</td>\n      <td>-0.95197</td>\n      <td>-0.482460</td>\n      <td>-0.611130</td>\n      <td>-0.570090</td>\n      <td>-0.316850</td>\n      <td>-0.678250</td>\n      <td>-0.695090</td>\n      <td>-0.717270</td>\n      <td>-0.606330</td>\n      <td>-0.652530</td>\n      <td>-0.711260</td>\n      <td>-0.525930</td>\n    </tr>\n    <tr>\n      <th>50%</th>\n      <td>946.000000</td>\n      <td>-0.07854</td>\n      <td>-0.482460</td>\n      <td>-0.059210</td>\n      <td>0.960820</td>\n      <td>-0.316850</td>\n      <td>0.042570</td>\n      <td>0.003320</td>\n      <td>-0.019280</td>\n      <td>-0.017290</td>\n      <td>-0.006650</td>\n      <td>-0.217120</td>\n      <td>0.079870</td>\n    </tr>\n    <tr>\n      <th>75%</th>\n      <td>1417.000000</td>\n      <td>0.49788</td>\n      <td>0.482460</td>\n      <td>0.454680</td>\n      <td>0.960820</td>\n      <td>-0.316850</td>\n      <td>0.629670</td>\n      <td>0.637790</td>\n      <td>0.723300</td>\n      <td>0.760960</td>\n      <td>0.584890</td>\n      <td>0.529750</td>\n      <td>0.765400</td>\n    </tr>\n    <tr>\n      <th>max</th>\n      <td>1888.000000</td>\n      <td>2.59171</td>\n      <td>0.482460</td>\n      <td>1.984370</td>\n      <td>0.960820</td>\n      <td>1.907250</td>\n      <td>3.273930</td>\n      <td>3.273930</td>\n      <td>2.901610</td>\n      <td>3.464360</td>\n      <td>3.464360</td>\n      <td>2.901610</td>\n      <td>1.921730</td>\n    </tr>\n  </tbody>\n</table>\n</div>"
     },
     "metadata": {},
     "execution_count": 6
    }
   ],
   "source": [
    "drug_consumption_data.describe()"
   ]
  },
  {
   "cell_type": "code",
   "execution_count": null,
   "metadata": {},
   "outputs": [],
   "source": [
    "# https://www.icpsr.umich.edu/web/ICPSR/studies/36536/variables"
   ]
  },
  {
   "cell_type": "code",
   "execution_count": 7,
   "metadata": {},
   "outputs": [
    {
     "output_type": "execute_result",
     "data": {
      "text/plain": [
       "array(['CL0', 'CL2', 'CL3', 'CL4', 'CL1'], dtype=object)"
      ]
     },
     "metadata": {},
     "execution_count": 7
    }
   ],
   "source": [
    "drug_consumption_data.Semer.unique()"
   ]
  },
  {
   "cell_type": "code",
   "execution_count": null,
   "metadata": {},
   "outputs": [],
   "source": []
  },
  {
   "cell_type": "code",
   "execution_count": null,
   "metadata": {},
   "outputs": [],
   "source": []
  }
 ]
}